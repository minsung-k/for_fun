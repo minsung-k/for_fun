{
 "cells": [
  {
   "cell_type": "code",
   "execution_count": 81,
   "metadata": {
    "ExecuteTime": {
     "end_time": "2020-08-29T21:39:15.112558Z",
     "start_time": "2020-08-29T21:39:15.068539Z"
    }
   },
   "outputs": [
    {
     "data": {
      "text/html": [
       "<div>\n",
       "<style scoped>\n",
       "    .dataframe tbody tr th:only-of-type {\n",
       "        vertical-align: middle;\n",
       "    }\n",
       "\n",
       "    .dataframe tbody tr th {\n",
       "        vertical-align: top;\n",
       "    }\n",
       "\n",
       "    .dataframe thead th {\n",
       "        text-align: right;\n",
       "    }\n",
       "</style>\n",
       "<table border=\"1\" class=\"dataframe\">\n",
       "  <thead>\n",
       "    <tr style=\"text-align: right;\">\n",
       "      <th></th>\n",
       "      <th>자료명</th>\n",
       "      <th>등록번호</th>\n",
       "      <th>저자</th>\n",
       "      <th>발행처</th>\n",
       "      <th>소장분관</th>\n",
       "      <th>청구기호</th>\n",
       "      <th>대출일자</th>\n",
       "      <th>반납일자</th>\n",
       "      <th>대출월</th>\n",
       "      <th>대출년</th>\n",
       "    </tr>\n",
       "  </thead>\n",
       "  <tbody>\n",
       "    <tr>\n",
       "      <th>0</th>\n",
       "      <td>엄청나게 복잡하고 끔찍하게 재밌는 문제들</td>\n",
       "      <td>1412715</td>\n",
       "      <td>Povey, Thomas</td>\n",
       "      <td>서울 :반니,2016</td>\n",
       "      <td>서울도서관</td>\n",
       "      <td>500 P879pKg c.2</td>\n",
       "      <td>2020-08-28 00:00:00</td>\n",
       "      <td>2020-08-28 00:00:00</td>\n",
       "      <td>08</td>\n",
       "      <td>2020</td>\n",
       "    </tr>\n",
       "    <tr>\n",
       "      <th>1</th>\n",
       "      <td>하울의 움직이는 성</td>\n",
       "      <td>1016344</td>\n",
       "      <td>Jones, Diana Wynne</td>\n",
       "      <td>서울 :문학수첩 리틀북스,2004.</td>\n",
       "      <td>서울도서관</td>\n",
       "      <td>823 J79hKg v.2</td>\n",
       "      <td>2020-08-06 00:00:00</td>\n",
       "      <td>2020-08-19 00:00:00</td>\n",
       "      <td>08</td>\n",
       "      <td>2020</td>\n",
       "    </tr>\n",
       "    <tr>\n",
       "      <th>2</th>\n",
       "      <td>심심할 때 우주 한 조각 :태양과 별, 은하를 누비며 맛보는 교양천문학</td>\n",
       "      <td>1487357</td>\n",
       "      <td>Stuart, Colin</td>\n",
       "      <td>서울 :생각정거장 :매경출판,2019</td>\n",
       "      <td>서울도서관</td>\n",
       "      <td>523.1 S929uKh c.2</td>\n",
       "      <td>2020-08-06 00:00:00</td>\n",
       "      <td>2020-08-19 00:00:00</td>\n",
       "      <td>08</td>\n",
       "      <td>2020</td>\n",
       "    </tr>\n",
       "    <tr>\n",
       "      <th>3</th>\n",
       "      <td>모리와 함께한 화요일</td>\n",
       "      <td>1019187</td>\n",
       "      <td>Albom, Mitch</td>\n",
       "      <td>서울 :세종서적,2004.</td>\n",
       "      <td>서울도서관</td>\n",
       "      <td>828 A339ta c.3</td>\n",
       "      <td>2020-08-06 00:00:00</td>\n",
       "      <td>2020-08-19 00:00:00</td>\n",
       "      <td>08</td>\n",
       "      <td>2020</td>\n",
       "    </tr>\n",
       "    <tr>\n",
       "      <th>4</th>\n",
       "      <td>하울의 움직이는 성</td>\n",
       "      <td>1016342</td>\n",
       "      <td>Jones, Diana Wynne</td>\n",
       "      <td>서울 :문학수첩 리틀북스,2004.</td>\n",
       "      <td>서울도서관</td>\n",
       "      <td>823 J79hKg v.1</td>\n",
       "      <td>2020-08-06 00:00:00</td>\n",
       "      <td>2020-08-19 00:00:00</td>\n",
       "      <td>08</td>\n",
       "      <td>2020</td>\n",
       "    </tr>\n",
       "    <tr>\n",
       "      <th>...</th>\n",
       "      <td>...</td>\n",
       "      <td>...</td>\n",
       "      <td>...</td>\n",
       "      <td>...</td>\n",
       "      <td>...</td>\n",
       "      <td>...</td>\n",
       "      <td>...</td>\n",
       "      <td>...</td>\n",
       "      <td>...</td>\n",
       "      <td>...</td>\n",
       "    </tr>\n",
       "    <tr>\n",
       "      <th>399</th>\n",
       "      <td>내 생애 한 번은 자전거 전국일주</td>\n",
       "      <td>2182774</td>\n",
       "      <td>김효찬</td>\n",
       "      <td>서울 :프라하,2012.</td>\n",
       "      <td>글로벌도서관</td>\n",
       "      <td>915.1 G496n c.2</td>\n",
       "      <td>2013-04-30 00:00:00</td>\n",
       "      <td>2013-05-13 00:00:00</td>\n",
       "      <td>04</td>\n",
       "      <td>2013</td>\n",
       "    </tr>\n",
       "    <tr>\n",
       "      <th>400</th>\n",
       "      <td>이력서 자기소개서 상식사전</td>\n",
       "      <td>2125908</td>\n",
       "      <td>문병용</td>\n",
       "      <td>서울 :길벗,2009.</td>\n",
       "      <td>글로벌도서관</td>\n",
       "      <td>658.311 M964i c.2</td>\n",
       "      <td>2013-04-30 00:00:00</td>\n",
       "      <td>2013-05-13 00:00:00</td>\n",
       "      <td>04</td>\n",
       "      <td>2013</td>\n",
       "    </tr>\n",
       "    <tr>\n",
       "      <th>401</th>\n",
       "      <td>자기소개서 &amp; 면접 :자기소개서! 제대로 쓰고, 면접! 자신있게 말하기</td>\n",
       "      <td>2122981</td>\n",
       "      <td>문상식</td>\n",
       "      <td>서울 :박문각,2009.</td>\n",
       "      <td>글로벌도서관</td>\n",
       "      <td>658.311 M961j c.2</td>\n",
       "      <td>2013-04-30 00:00:00</td>\n",
       "      <td>2013-05-13 00:00:00</td>\n",
       "      <td>04</td>\n",
       "      <td>2013</td>\n",
       "    </tr>\n",
       "    <tr>\n",
       "      <th>402</th>\n",
       "      <td>지금 당장 경제공부 시작하라</td>\n",
       "      <td>2114084</td>\n",
       "      <td>최진기</td>\n",
       "      <td>서울 :한빛비즈,2009.</td>\n",
       "      <td>글로벌도서관</td>\n",
       "      <td>330 C549j c.2</td>\n",
       "      <td>2013-03-29 00:00:00</td>\n",
       "      <td>2013-04-11 00:00:00</td>\n",
       "      <td>03</td>\n",
       "      <td>2013</td>\n",
       "    </tr>\n",
       "    <tr>\n",
       "      <th>403</th>\n",
       "      <td>버킷리스트 :꼭 이루고 싶은 자신과의 약속 =(The) Bucket list</td>\n",
       "      <td>2176218</td>\n",
       "      <td>강창균</td>\n",
       "      <td>서울 :한국경제신문 한경BP,2011.</td>\n",
       "      <td>글로벌도서관</td>\n",
       "      <td>179.9 G191b c.3</td>\n",
       "      <td>2013-03-29 00:00:00</td>\n",
       "      <td>2013-04-11 00:00:00</td>\n",
       "      <td>03</td>\n",
       "      <td>2013</td>\n",
       "    </tr>\n",
       "  </tbody>\n",
       "</table>\n",
       "<p>404 rows × 10 columns</p>\n",
       "</div>"
      ],
      "text/plain": [
       "                                            자료명     등록번호                  저자  \\\n",
       "0                        엄청나게 복잡하고 끔찍하게 재밌는 문제들  1412715       Povey, Thomas   \n",
       "1                                    하울의 움직이는 성  1016344  Jones, Diana Wynne   \n",
       "2       심심할 때 우주 한 조각 :태양과 별, 은하를 누비며 맛보는 교양천문학  1487357       Stuart, Colin   \n",
       "3                                   모리와 함께한 화요일  1019187        Albom, Mitch   \n",
       "4                                    하울의 움직이는 성  1016342  Jones, Diana Wynne   \n",
       "..                                          ...      ...                 ...   \n",
       "399                          내 생애 한 번은 자전거 전국일주  2182774                 김효찬   \n",
       "400                              이력서 자기소개서 상식사전  2125908                 문병용   \n",
       "401     자기소개서 & 면접 :자기소개서! 제대로 쓰고, 면접! 자신있게 말하기  2122981                 문상식   \n",
       "402                             지금 당장 경제공부 시작하라  2114084                 최진기   \n",
       "403  버킷리스트 :꼭 이루고 싶은 자신과의 약속 =(The) Bucket list  2176218                 강창균   \n",
       "\n",
       "                       발행처    소장분관               청구기호                 대출일자  \\\n",
       "0              서울 :반니,2016   서울도서관    500 P879pKg c.2  2020-08-28 00:00:00   \n",
       "1      서울 :문학수첩 리틀북스,2004.   서울도서관     823 J79hKg v.2  2020-08-06 00:00:00   \n",
       "2     서울 :생각정거장 :매경출판,2019   서울도서관  523.1 S929uKh c.2  2020-08-06 00:00:00   \n",
       "3           서울 :세종서적,2004.   서울도서관     828 A339ta c.3  2020-08-06 00:00:00   \n",
       "4      서울 :문학수첩 리틀북스,2004.   서울도서관     823 J79hKg v.1  2020-08-06 00:00:00   \n",
       "..                     ...     ...                ...                  ...   \n",
       "399          서울 :프라하,2012.  글로벌도서관    915.1 G496n c.2  2013-04-30 00:00:00   \n",
       "400           서울 :길벗,2009.  글로벌도서관  658.311 M964i c.2  2013-04-30 00:00:00   \n",
       "401          서울 :박문각,2009.  글로벌도서관  658.311 M961j c.2  2013-04-30 00:00:00   \n",
       "402         서울 :한빛비즈,2009.  글로벌도서관      330 C549j c.2  2013-03-29 00:00:00   \n",
       "403  서울 :한국경제신문 한경BP,2011.  글로벌도서관    179.9 G191b c.3  2013-03-29 00:00:00   \n",
       "\n",
       "                    반납일자 대출월   대출년  \n",
       "0    2020-08-28 00:00:00  08  2020  \n",
       "1    2020-08-19 00:00:00  08  2020  \n",
       "2    2020-08-19 00:00:00  08  2020  \n",
       "3    2020-08-19 00:00:00  08  2020  \n",
       "4    2020-08-19 00:00:00  08  2020  \n",
       "..                   ...  ..   ...  \n",
       "399  2013-05-13 00:00:00  04  2013  \n",
       "400  2013-05-13 00:00:00  04  2013  \n",
       "401  2013-05-13 00:00:00  04  2013  \n",
       "402  2013-04-11 00:00:00  03  2013  \n",
       "403  2013-04-11 00:00:00  03  2013  \n",
       "\n",
       "[404 rows x 10 columns]"
      ]
     },
     "execution_count": 81,
     "metadata": {},
     "output_type": "execute_result"
    }
   ],
   "source": [
    "import pandas as pd\n",
    "import matplotlib.pyplot as plt\n",
    "\n",
    "# read csv file\n",
    "file = pd.read_csv('C:/Users/min/Downloads/export_20200830054154.csv', encoding='euc-kr')\n",
    "\n",
    "# add month, year columns\n",
    "list_year = []\n",
    "list_month = []\n",
    "for i in range(len(file)):\n",
    "    list_month.append(list_date[i][5:7])\n",
    "    list_year.append(list_date[i][:4])\n",
    "\n",
    "file['대출월'] = list_month\n",
    "file['대출년'] = list_year\n",
    "\n",
    "file"
   ]
  },
  {
   "cell_type": "markdown",
   "metadata": {},
   "source": [
    "#### Bar chart borrowing books by year"
   ]
  },
  {
   "cell_type": "code",
   "execution_count": 50,
   "metadata": {
    "ExecuteTime": {
     "end_time": "2020-08-29T21:26:56.510387Z",
     "start_time": "2020-08-29T21:26:56.310341Z"
    }
   },
   "outputs": [
    {
     "data": {
      "image/png": "[encoded data removed]",
      "text/plain": [
       "<Figure size 432x288 with 1 Axes>"
      ]
     },
     "metadata": {
      "needs_background": "light"
     },
     "output_type": "display_data"
    }
   ],
   "source": [
    "plt.bar(file['대출년'].unique(), file['대출년'].value_counts().sort_index(ascending=False))\n",
    "\n",
    "for i, v in enumerate(file['대출년'].unique()):\n",
    "    \n",
    "    plt.text(v,  file['대출년'].value_counts().sort_index(ascending=False)[i], file['대출년'].value_counts().sort_index(ascending=False)[i])"
   ]
  },
  {
   "cell_type": "markdown",
   "metadata": {},
   "source": [
    "#### Bar chart borrowing books by month"
   ]
  },
  {
   "cell_type": "code",
   "execution_count": 78,
   "metadata": {
    "ExecuteTime": {
     "end_time": "2020-08-29T21:37:32.320005Z",
     "start_time": "2020-08-29T21:37:32.069971Z"
    },
    "scrolled": true
   },
   "outputs": [
    {
     "data": {
      "image/png": "[encoded data removed]",
      "text/plain": [
       "<Figure size 432x288 with 1 Axes>"
      ]
     },
     "metadata": {
      "needs_background": "light"
     },
     "output_type": "display_data"
    }
   ],
   "source": [
    "plt.bar(sorted(file['대출월'].unique()), file['대출월'].value_counts().sort_index(ascending=True))\n",
    "\n",
    "for i, v in enumerate(sorted(file['대출월'].unique())):\n",
    "    \n",
    "    plt.text(v,  file['대출월'].value_counts().sort_index(ascending=True)[i], file['대출월'].value_counts().sort_index(ascending=True)[i])"
   ]
  },
  {
   "cell_type": "markdown",
   "metadata": {},
   "source": [
    "#### Pie chart borrowing books by year"
   ]
  },
  {
   "cell_type": "code",
   "execution_count": 63,
   "metadata": {
    "ExecuteTime": {
     "end_time": "2020-08-29T21:33:03.200818Z",
     "start_time": "2020-08-29T21:33:03.111781Z"
    },
    "scrolled": true
   },
   "outputs": [
    {
     "data": {
      "text/plain": [
       "([<matplotlib.patches.Wedge at 0x1ef25020708>,\n",
       "  <matplotlib.patches.Wedge at 0x1ef23c3e048>,\n",
       "  <matplotlib.patches.Wedge at 0x1ef240e7688>,\n",
       "  <matplotlib.patches.Wedge at 0x1ef2404fd48>,\n",
       "  <matplotlib.patches.Wedge at 0x1ef2406a2c8>,\n",
       "  <matplotlib.patches.Wedge at 0x1ef24160148>,\n",
       "  <matplotlib.patches.Wedge at 0x1ef24ff9b48>],\n",
       " [Text(0.9862445344845626, 0.4871567696330706, '2020'),\n",
       "  Text(0.19569112988099255, 1.0824532237865527, '2019'),\n",
       "  Text(-1.02734662770869, 0.3931398053308552, '2018'),\n",
       "  Text(-0.6548398103101322, -0.8838466059407539, '2017'),\n",
       "  Text(0.13650856185365867, -1.0914968678565442, '2016'),\n",
       "  Text(0.6410150889987738, -0.8939237415327407, '2014'),\n",
       "  Text(1.0078924142584704, -0.4406278262663762, '2013')],\n",
       " [Text(0.5379515642643068, 0.2657218743453112, '14.6%'),\n",
       "  Text(0.10674061629872321, 0.5904290311563014, '15.1%'),\n",
       "  Text(-0.5603708878411036, 0.21443989381683007, '29.0%'),\n",
       "  Text(-0.35718535107825383, -0.48209814869495665, '12.4%'),\n",
       "  Text(0.07445921555654109, -0.5953619279217512, '11.9%'),\n",
       "  Text(0.3496445939993311, -0.48759476810876756, '4.0%'),\n",
       "  Text(0.5497594986864384, -0.24034245069075064, '13.1%')])"
      ]
     },
     "execution_count": 63,
     "metadata": {},
     "output_type": "execute_result"
    },
    {
     "data": {
      "image/png": "[encoded data removed]",
      "text/plain": [
       "<Figure size 432x288 with 1 Axes>"
      ]
     },
     "metadata": {},
     "output_type": "display_data"
    }
   ],
   "source": [
    "labels = file['대출년'].unique()\n",
    "plt.pie( file['대출년'].value_counts().sort_index(ascending=False),autopct='%1.1f%%', labels=labels)"
   ]
  },
  {
   "cell_type": "markdown",
   "metadata": {},
   "source": [
    "#### Pie chart borrowing books by month"
   ]
  },
  {
   "cell_type": "code",
   "execution_count": 79,
   "metadata": {
    "ExecuteTime": {
     "end_time": "2020-08-29T21:38:12.591219Z",
     "start_time": "2020-08-29T21:38:12.449211Z"
    }
   },
   "outputs": [
    {
     "data": {
      "text/plain": [
       "([<matplotlib.patches.Wedge at 0x1ef26fe6d48>,\n",
       "  <matplotlib.patches.Wedge at 0x1ef270280c8>,\n",
       "  <matplotlib.patches.Wedge at 0x1ef27028f88>,\n",
       "  <matplotlib.patches.Wedge at 0x1ef2702df08>,\n",
       "  <matplotlib.patches.Wedge at 0x1ef27039288>,\n",
       "  <matplotlib.patches.Wedge at 0x1ef27040288>,\n",
       "  <matplotlib.patches.Wedge at 0x1ef27040dc8>,\n",
       "  <matplotlib.patches.Wedge at 0x1ef27046d08>,\n",
       "  <matplotlib.patches.Wedge at 0x1ef27034e48>,\n",
       "  <matplotlib.patches.Wedge at 0x1ef27039e48>,\n",
       "  <matplotlib.patches.Wedge at 0x1ef26f96d48>,\n",
       "  <matplotlib.patches.Wedge at 0x1ef27060888>],\n",
       " [Text(1.0333364359738568, 0.3771151151688933, '01'),\n",
       "  Text(0.7085214740454285, 0.8414257666701759, '02'),\n",
       "  Text(0.2709068182692843, 1.0661188938459036, '03'),\n",
       "  Text(-0.2709067933149705, 1.0661189001869351, '04'),\n",
       "  Text(-0.7406932777641962, 0.8132487124336143, '05'),\n",
       "  Text(-1.0617768703492707, 0.28745413128238045, '06'),\n",
       "  Text(-0.8988812992562383, -0.6340444857006622, '07'),\n",
       "  Text(-0.1619323090619012, -1.088015591470031, '08'),\n",
       "  Text(0.22088780349120699, -1.0775938837376677, '09'),\n",
       "  Text(0.5100299048341899, -0.9746124851318227, '10'),\n",
       "  Text(0.9228481030760701, -0.5986245723731187, '11'),\n",
       "  Text(1.0934878193105406, -0.11951731681843729, '12')],\n",
       " [Text(0.56363805598574, 0.2056991537284872, '11.1%'),\n",
       "  Text(0.3864662585702337, 0.4589595090928231, '5.4%'),\n",
       "  Text(0.14776735541960961, 0.58151939664322, '8.9%'),\n",
       "  Text(-0.1477673418081657, 0.5815194001019645, '6.9%'),\n",
       "  Text(-0.40401451514410697, 0.44359020678197136, '8.7%'),\n",
       "  Text(-0.5791510201905112, 0.15679316251766207, '9.4%'),\n",
       "  Text(-0.4902988905034026, -0.3458424467458157, '18.6%'),\n",
       "  Text(-0.08832671403376428, -0.593463049892744, '7.2%'),\n",
       "  Text(0.12048425644974925, -0.5877784820387277, '4.0%'),\n",
       "  Text(0.27819812990955806, -0.5316068100719032, '5.0%'),\n",
       "  Text(0.5033716925869473, -0.3265224940217011, '11.4%'),\n",
       "  Text(0.596447901442113, -0.0651912637191476, '3.5%')])"
      ]
     },
     "execution_count": 79,
     "metadata": {},
     "output_type": "execute_result"
    },
    {
     "data": {
      "image/png": "[encoded data removed]",
      "text/plain": [
       "<Figure size 432x288 with 1 Axes>"
      ]
     },
     "metadata": {},
     "output_type": "display_data"
    }
   ],
   "source": [
    "labels = sorted(file['대출월'].unique())\n",
    "plt.pie( file['대출월'].value_counts().sort_index(ascending=True),autopct='%1.1f%%', labels=labels)"
   ]
  },
  {
   "cell_type": "code",
   "execution_count": null,
   "metadata": {},
   "outputs": [],
   "source": []
  }
 ],
 "metadata": {
  "kernelspec": {
   "display_name": "Python 3",
   "language": "python",
   "name": "python3"
  },
  "language_info": {
   "codemirror_mode": {
    "name": "ipython",
    "version": 3
   },
   "file_extension": ".py",
   "mimetype": "text/x-python",
   "name": "python",
   "nbconvert_exporter": "python",
   "pygments_lexer": "ipython3",
   "version": "3.7.6"
  },
  "latex_envs": {
   "LaTeX_envs_menu_present": true,
   "autoclose": false,
   "autocomplete": true,
   "bibliofile": "biblio.bib",
   "cite_by": "apalike",
   "current_citInitial": 1,
   "eqLabelWithNumbers": true,
   "eqNumInitial": 1,
   "hotkeys": {
    "equation": "Ctrl-E",
    "itemize": "Ctrl-I"
   },
   "labels_anchors": false,
   "latex_user_defs": false,
   "report_style_numbering": false,
   "user_envs_cfg": false
  },
  "toc": {
   "base_numbering": 1,
   "nav_menu": {},
   "number_sections": true,
   "sideBar": true,
   "skip_h1_title": false,
   "title_cell": "Table of Contents",
   "title_sidebar": "Contents",
   "toc_cell": false,
   "toc_position": {},
   "toc_section_display": true,
   "toc_window_display": false
  },
  "varInspector": {
   "cols": {
    "lenName": 16,
    "lenType": 16,
    "lenVar": 40
   },
   "kernels_config": {
    "python": {
     "delete_cmd_postfix": "",
     "delete_cmd_prefix": "del ",
     "library": "var_list.py",
     "varRefreshCmd": "print(var_dic_list())"
    },
    "r": {
     "delete_cmd_postfix": ") ",
     "delete_cmd_prefix": "rm(",
     "library": "var_list.r",
     "varRefreshCmd": "cat(var_dic_list()) "
    }
   },
   "types_to_exclude": [
    "module",
    "function",
    "builtin_function_or_method",
    "instance",
    "_Feature"
   ],
   "window_display": false
  }
 },
 "nbformat": 4,
 "nbformat_minor": 4
}
